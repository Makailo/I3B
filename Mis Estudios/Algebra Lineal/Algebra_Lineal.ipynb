{
 "cells": [
  {
   "cell_type": "code",
   "execution_count": 2,
   "metadata": {},
   "outputs": [],
   "source": [
    "import numpy as np\n",
    "from sympy import symbols, sqrt"
   ]
  },
  {
   "cell_type": "markdown",
   "metadata": {},
   "source": [
    "## Seguimiento del capitulo 1: Algebra Lineal del libro Computación Cuántica de Jean-Pierre Deschamps"
   ]
  },
  {
   "cell_type": "markdown",
   "metadata": {},
   "source": [
    "La función zip en Python toma dos o más iterables (como listas, tuplas, etc.) y devuelve un nuevo iterable que contiene tuplas emparejadas de elementos correspondientes de los iterables originales. Cada tupla tiene elementos de las mismas posiciones en los iterables de entrada."
   ]
  },
  {
   "cell_type": "code",
   "execution_count": 5,
   "metadata": {},
   "outputs": [],
   "source": [
    "def producto_interno(vector1, vector2):\n",
    "    if len(vector1) == len(vector2):\n",
    "        resultado = sum(x * y for x, y in zip(vector1, vector2))\n",
    "        return resultado\n",
    "    else:\n",
    "        raise ValueError(\"Los vectores deben tener la misma dimensión.\")"
   ]
  },
  {
   "cell_type": "markdown",
   "metadata": {},
   "source": [
    "Lo vectores propios son las columnas de la matriz que devuelve la funcion eig"
   ]
  },
  {
   "cell_type": "code",
   "execution_count": 2,
   "metadata": {},
   "outputs": [],
   "source": [
    "def calcular_propios(matriz):\n",
    "    # Calcular los valores y vectores propios\n",
    "    valores_propios, vectores_propios = np.linalg.eig(matriz)\n",
    "    \n",
    "    # Devolver los resultados\n",
    "    return valores_propios, vectores_propios"
   ]
  },
  {
   "cell_type": "code",
   "execution_count": 43,
   "metadata": {},
   "outputs": [
    {
     "name": "stdout",
     "output_type": "stream",
     "text": [
      "Matriz de Hadamard de orden 2:\n",
      "[[ 0.70710678  0.70710678]\n",
      " [ 0.70710678 -0.70710678]]\n",
      "\n",
      "Valores propios:\n",
      "[ 1. -1.]\n",
      "\n",
      "Vector propio 1: [0.92387953 0.38268343]\n",
      "\n",
      "Vector propio 2: [-0.38268343  0.92387953]\n",
      "\n",
      "Producto interno:\n",
      "0.0\n",
      "\n",
      "Mutliplicación de vectores propios por la matriz\n",
      "[[ 0.92387953  0.38268343]\n",
      " [ 0.38268343 -0.92387953]]\n"
     ]
    }
   ],
   "source": [
    "# Crear una matriz de Hadamard de orden 2\n",
    "matriz_hadamard = np.array([[1/np.sqrt(2), 1/np.sqrt(2)],\n",
    "                              [1/np.sqrt(2), -1/np.sqrt(2)]])\n",
    "\n",
    "# Calcular valores y vectores propios\n",
    "valores_propios, vectores_propios = calcular_propios(matriz_hadamard)\n",
    "\n",
    "# Imprimir los resultados\n",
    "print(\"Matriz de Hadamard de orden 2:\")\n",
    "print(matriz_hadamard)\n",
    "\n",
    "print(\"\\nValores propios:\")\n",
    "print(valores_propios)\n",
    "\n",
    "# Iterar sobre cada columna e imprimir sus elementos\n",
    "for i in range(vectores_propios.shape[1]):\n",
    "    columna_actual = vectores_propios[:, i]\n",
    "    print(f\"\\nVector propio {i + 1}: {columna_actual}\")\n",
    "\n",
    "\n",
    "print(\"\\nProducto interno:\")\n",
    "print(producto_interno(vectores_propios[:,0], vectores_propios[:,1]))\n",
    "\n",
    "print(\"\\nMutliplicación de vectores propios por la matriz\")\n",
    "print(matriz_hadamard @ vectores_propios)\n"
   ]
  },
  {
   "cell_type": "markdown",
   "metadata": {},
   "source": [
    "Realizar un cambio de base a una matriz implica expresar la matriz en términos de los vectores de una nueva base. \n",
    "\n",
    "Si tienes una matriz $A$ y una matriz de cambio de base $P$ cuyas columnas son los vectores de la nueva base, el cambio de base se realiza mediante la multiplicación $P^{-1}AP$"
   ]
  },
  {
   "cell_type": "code",
   "execution_count": 48,
   "metadata": {},
   "outputs": [
    {
     "name": "stdout",
     "output_type": "stream",
     "text": [
      "Matriz original A:\n",
      "[[ 0.70710678  0.70710678]\n",
      " [ 0.70710678 -0.70710678]]\n",
      "\n",
      "Matriz en la nueva base:\n",
      "[[ 1.  0.]\n",
      " [ 0. -1.]]\n"
     ]
    }
   ],
   "source": [
    "# Calcular la inversa de P\n",
    "P_inv = np.linalg.inv(vectores_propios)\n",
    "\n",
    "# Realizar el cambio de base\n",
    "Hadamard_en_nueva_base = np.round(np.dot(P_inv, np.dot(matriz_hadamard, vectores_propios)), decimals=2)\n",
    "\n",
    "# Imprimir la matriz original y la matriz en la nueva base\n",
    "print(\"Matriz original A:\")\n",
    "print(matriz_hadamard)\n",
    "\n",
    "print(\"\\nMatriz en la nueva base:\")\n",
    "print(Hadamard_en_nueva_base)\n"
   ]
  },
  {
   "cell_type": "markdown",
   "metadata": {},
   "source": [
    "### Ejercicios\n"
   ]
  },
  {
   "cell_type": "markdown",
   "metadata": {},
   "source": [
    "#### Ejercicio 1: Compruebe que los vectores $\\begin{bmatrix}1\\\\2 \\end{bmatrix}$ y $\\begin{bmatrix}2\\\\1 \\end{bmatrix}$ constituyen una base del espacio $V = \\Complex^2$. Observese que no es normal ni ortogonal"
   ]
  },
  {
   "cell_type": "markdown",
   "metadata": {},
   "source": [
    "Resolución:\n",
    "* Para que dos vectores constituyan una base de $\\Complex^2$ hay que comprobar si son linealmente independientes. Se comprueba facilmente creando una matrix 2 x 2 con los vectores como columnas y comprobando si el determinante de la mtriz es $\\neq 0$\n",
    "\n",
    "    $P = \\begin{bmatrix} 1 & 2 \\\\ 2 & 1 \\end{bmatrix}$"
   ]
  },
  {
   "cell_type": "code",
   "execution_count": 3,
   "metadata": {},
   "outputs": [
    {
     "name": "stdout",
     "output_type": "stream",
     "text": [
      "Matriz:\n",
      "[[1 2]\n",
      " [2 1]]\n",
      "\n",
      "Determinante: -2.9999999999999996\n"
     ]
    }
   ],
   "source": [
    "# Definir una matriz\n",
    "matriz = np.array([[1, 2,],\n",
    "                   [2,1]])\n",
    "\n",
    "# Calcular el determinante\n",
    "determinante = np.linalg.det(matriz)\n",
    "\n",
    "print(\"Matriz:\")\n",
    "print(matriz)\n",
    "print(\"\\nDeterminante:\", determinante)"
   ]
  },
  {
   "cell_type": "markdown",
   "metadata": {},
   "source": [
    "$det(P) \\neq 0$ entonces los vectores son linalmente independientes y constituyen una base de $\\Complex^2$"
   ]
  },
  {
   "cell_type": "markdown",
   "metadata": {},
   "source": [
    "Para coprobar que la base es normal, los vectores de la base tienen que tener norma 1."
   ]
  },
  {
   "cell_type": "code",
   "execution_count": 4,
   "metadata": {},
   "outputs": [
    {
     "name": "stdout",
     "output_type": "stream",
     "text": [
      "Vector1: [1 2]\n",
      "Norma1: 2.23606797749979\n",
      "Vector2: [2 1]\n",
      "Norma2: 2.23606797749979\n"
     ]
    }
   ],
   "source": [
    "# Definir un vector\n",
    "vector1 = np.array([1, 2])\n",
    "vector2 = np.array([2,1])\n",
    "\n",
    "# Calcular la norma del vector\n",
    "norma1 = np.linalg.norm(vector1)\n",
    "norma2= np.linalg.norm(vector2)\n",
    "\n",
    "print(\"Vector1:\", vector1)\n",
    "print(\"Norma1:\", norma1)\n",
    "\n",
    "print(\"Vector2:\", vector2)\n",
    "print(\"Norma2:\", norma2)"
   ]
  },
  {
   "cell_type": "markdown",
   "metadata": {},
   "source": [
    "Las normas son $\\neq 1$ por lo que no es una base normal"
   ]
  },
  {
   "cell_type": "markdown",
   "metadata": {},
   "source": [
    "Para que la base sea ortogonal, los vectores tienen que ser ortogonales entre si. Si el producto interno entre los dods vectores es 0 seran ortogonales."
   ]
  },
  {
   "cell_type": "code",
   "execution_count": 6,
   "metadata": {},
   "outputs": [
    {
     "data": {
      "text/plain": [
       "4"
      ]
     },
     "execution_count": 6,
     "metadata": {},
     "output_type": "execute_result"
    }
   ],
   "source": [
    "producto_interno(vector1,vector2)"
   ]
  },
  {
   "cell_type": "markdown",
   "metadata": {},
   "source": [
    "$\\braket{v_1|v_2} \\neq 0$ entonces no son vectores ortogonales, por lo qe no es una base ortogonal."
   ]
  },
  {
   "cell_type": "markdown",
   "metadata": {},
   "source": [
    "#### Ejercicio 2:"
   ]
  }
 ],
 "metadata": {
  "kernelspec": {
   "display_name": "Python 3",
   "language": "python",
   "name": "python3"
  },
  "language_info": {
   "codemirror_mode": {
    "name": "ipython",
    "version": 3
   },
   "file_extension": ".py",
   "mimetype": "text/x-python",
   "name": "python",
   "nbconvert_exporter": "python",
   "pygments_lexer": "ipython3",
   "version": "3.11.7"
  }
 },
 "nbformat": 4,
 "nbformat_minor": 2
}
