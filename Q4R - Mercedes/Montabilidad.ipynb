{
 "cells": [
  {
   "cell_type": "code",
   "execution_count": 1,
   "metadata": {},
   "outputs": [],
   "source": [
    "import pandas as pd\n",
    "import pennylane as qml\n",
    "import numpy as np"
   ]
  },
  {
   "cell_type": "markdown",
   "metadata": {},
   "source": [
    "### Lectura del fichero CSV"
   ]
  },
  {
   "cell_type": "code",
   "execution_count": 2,
   "metadata": {},
   "outputs": [],
   "source": [
    "data = pd.read_csv('Datos_Montabilidad_Anom_447-6-1.csv',delimiter=';')\n",
    "\n",
    "#Filtrado para quitar los datos string\n",
    "filtered_data_only_int = data.iloc[:, 2:-2]\n",
    "\n",
    "#Construir dataframe binario\n",
    "df_binario = filtered_data_only_int.applymap(lambda x: 1 if x > 0 else 0)\n",
    "\n",
    "#Data frame con primeras 20 columnas\n",
    "df_binario_0_20 = df_binario.iloc[:, 0:20]\n",
    "\n",
    "#Separar por vectores train y test\n",
    "train_data = data[data['Set'] == 'Train']\n",
    "test_data = data[data['Set'] == 'Test']"
   ]
  },
  {
   "cell_type": "code",
   "execution_count": 4,
   "metadata": {},
   "outputs": [],
   "source": [
    "N = len(df_binario_0_20.columns[:20])\n",
    "wires = range(N)\n",
    "dev = qml.device(\"default.qubit\", wires)"
   ]
  },
  {
   "cell_type": "code",
   "execution_count": null,
   "metadata": {},
   "outputs": [],
   "source": [
    "@qml.qnode(dev)\n",
    "def circuit(vector):\n",
    "    qml.BasisEmbedding(features=vector, wires=range(N))\n",
    "    return qml.state()"
   ]
  },
  {
   "cell_type": "code",
   "execution_count": 7,
   "metadata": {},
   "outputs": [],
   "source": [
    "##Primera linea como lista\n",
    "X = df_binario_0_20.iloc[0].to_list()\n",
    "X_1 = df_binario_0_20.iloc[1].to_list()"
   ]
  },
  {
   "cell_type": "code",
   "execution_count": 15,
   "metadata": {},
   "outputs": [
    {
     "name": "stdout",
     "output_type": "stream",
     "text": [
      "Estado_0 \n",
      " 4: ──X─┤  State\n",
      " 6: ──X─┤  State\n",
      " 7: ──X─┤  State\n",
      " 8: ──X─┤  State\n",
      "14: ──X─┤  State\n",
      "15: ──X─┤  State\n",
      "\n",
      "Estado_1\n",
      " 6: ──X─┤  State\n",
      " 7: ──X─┤  State\n",
      " 8: ──X─┤  State\n",
      "15: ──X─┤  State\n"
     ]
    }
   ],
   "source": [
    "print(\"Estado_0 \")\n",
    "estado_0 = circuit(X)\n",
    "print(qml.draw(circuit, expansion_strategy=\"device\")(X))\n",
    "print(\"\\nEstado_1\")\n",
    "estado_1 = circuit(X_1)\n",
    "print(qml.draw(circuit, expansion_strategy=\"device\")(X_1))"
   ]
  }
 ],
 "metadata": {
  "kernelspec": {
   "display_name": "Python 3",
   "language": "python",
   "name": "python3"
  },
  "language_info": {
   "codemirror_mode": {
    "name": "ipython",
    "version": 3
   },
   "file_extension": ".py",
   "mimetype": "text/x-python",
   "name": "python",
   "nbconvert_exporter": "python",
   "pygments_lexer": "ipython3",
   "version": "3.11.6"
  }
 },
 "nbformat": 4,
 "nbformat_minor": 2
}
