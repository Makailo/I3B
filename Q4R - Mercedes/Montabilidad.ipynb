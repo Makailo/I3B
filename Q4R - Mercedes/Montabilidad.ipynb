{
 "cells": [
  {
   "cell_type": "code",
   "execution_count": 1,
   "metadata": {},
   "outputs": [],
   "source": [
    "import pandas as pd\n",
    "import pennylane as qml\n",
    "import numpy as np\n",
    "import matplotlib.pyplot as plt\n",
    "import math"
   ]
  },
  {
   "cell_type": "markdown",
   "metadata": {},
   "source": [
    "### Lectura del fichero CSV"
   ]
  },
  {
   "cell_type": "code",
   "execution_count": 2,
   "metadata": {},
   "outputs": [],
   "source": [
    "data = pd.read_csv('Datos_Montabilidad_Anom_447-6-1.csv',delimiter=';')\n",
    "\n",
    "# Filtrado y construcción del dataframe binario\n",
    "df_binario = data.iloc[:, 2:-2].apply(lambda x: x > 0).astype(int)\n",
    "\n",
    "#Separar por vectores train y test\n",
    "train_data = df_binario[data['Set'] == 'Train']\n",
    "test_data = df_binario[data['Set'] == 'Test']"
   ]
  },
  {
   "cell_type": "markdown",
   "metadata": {},
   "source": [
    "### Implementación de SWAP Test (2 vectores N columnas)\n",
    "***Cuando subamos la cantidad de vectores hay que replantear cuantos wires (qbits) utilizar.*\n",
    "\n",
    "Se calculan los qubits necesarios a partir de la dimensionalidad del vector (cantidad de columnas). El vector se define como:\n",
    "\n",
    "$\\mathbf{x} = (x_1, x_2, x_3, \\ldots, x_n)$\n",
    "\n",
    "\n",
    "Los qubits que vamos a necesitar para codificar (BasisEmbedding) son $ qubits = dim(\\mathbf{x})$, ademas:\n",
    "* Para cada dimension necesitamos un qbits ancilla\n",
    "* para cada vector necesitamos un qubit por dimentsion\n",
    "\n",
    "Si tenemos N vectores necesitaremos multiplicar N+1 veces los qubits requeridos para codificar N por cada vector y +1 para los qubits ancilla.\n",
    "\n"
   ]
  },
  {
   "cell_type": "code",
   "execution_count": 178,
   "metadata": {},
   "outputs": [
    {
     "name": "stdout",
     "output_type": "stream",
     "text": [
      "[1, 1, 0, 1, 1]\n",
      "[0, 0, 1, 0, 0]\n"
     ]
    }
   ],
   "source": [
    "N = 5  # Numero de componentes\n",
    "#train_vector = train_data.iloc[:1, :N].to_numpy()\n",
    "#test_vector = test_data.iloc[:1, :N].to_numpy()\n",
    "train_vector = [1,1,0,1,1]\n",
    "test_vector = [0,0,1,0,0]\n",
    "print(train_vector)\n",
    "print(test_vector)\n",
    "#tensor_product = np.kron(test_vector, train_vector)\n",
    "#print(\"\\n\")\n",
    "#print(tensor_product)\n",
    "\n",
    "#Amplitude Embedding\n",
    "qubit_number_AmplitudeEmbedding = int(np.ceil(np.log2(N))) if np.log2(N) > 0 else 1\n",
    "qubits_totales_amplitude = 3*qubit_number_AmplitudeEmbedding"
   ]
  },
  {
   "cell_type": "code",
   "execution_count": 179,
   "metadata": {},
   "outputs": [
    {
     "name": "stdout",
     "output_type": "stream",
     "text": [
      "0: ──H──────────────────────╭●─────H───────────────────┤ ╭<Z@Z@Z>\n",
      "1: ─────────────────────────│──────H─╭●─────H──────────┤ ├<Z@Z@Z>\n",
      "2: ─────────────────────────│────────│──────H─╭●─────H─┤ ╰<Z@Z@Z>\n",
      "3: ─╭AmplitudeEmbedding(M0)─├SWAP────│────────│────────┤         \n",
      "4: ─├AmplitudeEmbedding(M0)─│────────├SWAP────│────────┤         \n",
      "5: ─├AmplitudeEmbedding(M0)─│────────│────────├SWAP────┤         \n",
      "6: ─├AmplitudeEmbedding(M0)─╰SWAP────│────────│────────┤         \n",
      "7: ─├AmplitudeEmbedding(M0)──────────╰SWAP────│────────┤         \n",
      "8: ─╰AmplitudeEmbedding(M0)───────────────────╰SWAP────┤         \n",
      "M0 = \n",
      "[0. +0.j 0. +0.j 0. +0.j 0. +0.j 0. +0.j 0. +0.j 0. +0.j 0. +0.j 0. +0.j\n",
      " 0. +0.j 0. +0.j 0. +0.j 0. +0.j 0. +0.j 0. +0.j 0. +0.j 0.5+0.j 0.5+0.j\n",
      " 0. +0.j 0.5+0.j 0.5+0.j 0. +0.j 0. +0.j 0. +0.j 0. +0.j 0. +0.j 0. +0.j\n",
      " 0. +0.j 0. +0.j 0. +0.j 0. +0.j 0. +0.j 0. +0.j 0. +0.j 0. +0.j 0. +0.j\n",
      " 0. +0.j 0. +0.j 0. +0.j 0. +0.j 0. +0.j 0. +0.j 0. +0.j 0. +0.j 0. +0.j\n",
      " 0. +0.j 0. +0.j 0. +0.j 0. +0.j 0. +0.j 0. +0.j 0. +0.j 0. +0.j 0. +0.j\n",
      " 0. +0.j 0. +0.j 0. +0.j 0. +0.j 0. +0.j 0. +0.j 0. +0.j 0. +0.j 0. +0.j\n",
      " 0. +0.j]\n",
      "-0.02266666666666667\n"
     ]
    }
   ],
   "source": [
    "dev = qml.device(\"default.qubit\", qubits_totales_amplitude, shots = 1500)\n",
    "#dev_qiskit = qml.device(\"qiskit.aer\", qubits_totales)\n",
    "@qml.qnode(dev)\n",
    "@qml.transforms.merge_amplitude_embedding\n",
    "def circuit(test_vector, train_vector):\n",
    "    qml.AmplitudeEmbedding(features=test_vector, wires=range(qubit_number_AmplitudeEmbedding,2*qubit_number_AmplitudeEmbedding), normalize=True, pad_with=0.)\n",
    "    qml.AmplitudeEmbedding(features=train_vector, wires=range(2*qubit_number_AmplitudeEmbedding,3*qubit_number_AmplitudeEmbedding), normalize=True, pad_with=0.)\n",
    "    ancillea = []\n",
    "    for i in range(qubit_number_AmplitudeEmbedding):\n",
    "        qml.Hadamard(i)\n",
    "        anc = i\n",
    "        ancillea.append(anc)\n",
    "        first_state = i+qubit_number_AmplitudeEmbedding\n",
    "        second_state = i+ 2*qubit_number_AmplitudeEmbedding\n",
    "        qml.CSWAP(wires=[anc, first_state, second_state])\n",
    "        qml.Hadamard(i)\n",
    "    return qml.expval(qml.operation.Tensor(*[qml.PauliZ(i) for i in ancillea]))\n",
    "    #qml.probs(wires = range(len(ancillea)))\n",
    "\n",
    "estado_0 = circuit(test_vector, train_vector)\n",
    "outliers = []\n",
    "if not estado_0 > 0 :\n",
    "    outliers.append(test_vector)\n",
    "#dev.circuit.draw(output=\"mpl\")\n",
    "print(qml.draw(circuit)(test_vector, train_vector))\n",
    "print(estado_0)"
   ]
  },
  {
   "cell_type": "code",
   "execution_count": null,
   "metadata": {},
   "outputs": [],
   "source": []
  }
 ],
 "metadata": {
  "kernelspec": {
   "display_name": "Python 3",
   "language": "python",
   "name": "python3"
  },
  "language_info": {
   "codemirror_mode": {
    "name": "ipython",
    "version": 3
   },
   "file_extension": ".py",
   "mimetype": "text/x-python",
   "name": "python",
   "nbconvert_exporter": "python",
   "pygments_lexer": "ipython3",
   "version": "3.11.6"
  }
 },
 "nbformat": 4,
 "nbformat_minor": 2
}
