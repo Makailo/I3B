{
 "cells": [
  {
   "cell_type": "code",
   "execution_count": 2,
   "metadata": {},
   "outputs": [],
   "source": [
    "import pandas as pd\n",
    "import pennylane as qml\n",
    "import numpy as np\n",
    "import matplotlib.pyplot as plt\n",
    "import math"
   ]
  },
  {
   "cell_type": "markdown",
   "metadata": {},
   "source": [
    "### Lectura del fichero CSV"
   ]
  },
  {
   "cell_type": "code",
   "execution_count": 44,
   "metadata": {},
   "outputs": [
    {
     "name": "stdout",
     "output_type": "stream",
     "text": [
      "[[1]\n",
      " [0]]\n"
     ]
    }
   ],
   "source": [
    "data = pd.read_csv('Datos_Montabilidad_Anom_447-6-1.csv',delimiter=';')\n",
    "\n",
    "# Filtrado y construcción del dataframe binario\n",
    "df_binario = data.iloc[:, 2:-2].apply(lambda x: x > 0).astype(int)\n",
    "\n",
    "# Data frame con las primeras 2 filas y 2 columnas\n",
    "np_binario_0_20 = df_binario.iloc[:2, 4:5].to_numpy()\n",
    "\n",
    "print(np_binario_0_20)\n",
    "#Separar por vectores train y test\n",
    "##train_data = data[data['Set'] == 'Train']\n",
    "##test_data = data[data['Set'] == 'Test']"
   ]
  },
  {
   "cell_type": "markdown",
   "metadata": {},
   "source": [
    "### Implementación de SWAP Test (2 vectores N columnas)\n",
    "***Cuando subamos la cantidad de vectores hay que replantear cuantos wires (qbits) utilizar.*\n",
    "\n",
    "Se calculan los qubits necesarios a partir de la dimensionalidad del vector (cantidad de columnas). El vector se define como:\n",
    "\n",
    "$\\mathbf{x} = (x_1, x_2, x_3, \\ldots, x_n)$\n",
    "\n",
    "\n",
    "Los qubits que vamos a necesitar para codificar (BasisEmbedding) son $ qubits = dim(\\mathbf{x})$, ademas:\n",
    "* Para cada dimension necesitamos un qbits ancilla\n",
    "* para cada vector necesitamos un qubit por dimentsion\n",
    "\n",
    "Si tenemos N vectores necesitaremos multiplicar N+1 veces los qubits requeridos para codificar N por cada vector y +1 para los qubits ancilla.\n",
    "\n"
   ]
  },
  {
   "cell_type": "code",
   "execution_count": 45,
   "metadata": {},
   "outputs": [
    {
     "name": "stdout",
     "output_type": "stream",
     "text": [
      "[1, 0]\n"
     ]
    }
   ],
   "source": [
    "#Numero maximo de quibts que puede comparar son 8\n",
    "N_vectores, qbit_number = np_binario_0_20.shape\n",
    "qubits_totales = 3* qbit_number\n",
    "\n",
    "estados_concatenados =np_binario_0_20.ravel().tolist()\n",
    "print(estados_concatenados)"
   ]
  },
  {
   "cell_type": "code",
   "execution_count": 46,
   "metadata": {},
   "outputs": [
    {
     "name": "stdout",
     "output_type": "stream",
     "text": [
      "0: ──H──────────────╭●─────H─┤  <Z>\n",
      "1: ─╭BasisEmbedding─├SWAP────┤     \n",
      "2: ─╰BasisEmbedding─╰SWAP────┤     \n",
      "0.0\n"
     ]
    }
   ],
   "source": [
    "dev = qml.device(\"default.qubit\", qubits_totales, shots =10)\n",
    "#dev_qiskit = qml.device(\"qiskit.aer\", qubits_totales)\n",
    "@qml.qnode(dev)\n",
    "def circuit(estados_concatenados):\n",
    "    qml.BasisEmbedding(features=estados_concatenados, wires=range(qbit_number, qubits_totales))\n",
    "    ancillea = []\n",
    "    for i in range(qbit_number):\n",
    "        qml.Hadamard(i)\n",
    "        anc = i\n",
    "        ancillea.append(anc)\n",
    "        first_state = i+qbit_number\n",
    "        second_state = i+ 2*qbit_number\n",
    "        qml.CSWAP(wires=[anc, first_state, second_state])\n",
    "        qml.Hadamard(i)\n",
    "    return  qml.expval(qml.operation.Tensor(*[qml.PauliZ(i) for i in ancillea]))\n",
    "    \n",
    "    #return qml.expval(qml.operation.Tensor(*[qml.PauliZ(i) for i in ancillea]))\n",
    "    #qml.probs(wires = range(len(ancillea)))\n",
    "\n",
    "estado_0 = circuit(estados_concatenados)\n",
    "#matriz_estados_propios_salida = estado_0.numpy().\n",
    "#matriz_salida_prob_0 = [round(matriz_probabilidades_salida[0],1)]\n",
    "# Crear un gráfico de línea\n",
    "#plt.plot(matriz_salida_prob_0)\n",
    "# Mostrar el gráfico\n",
    "#plt.show()\n",
    "#dev._circuit.draw(output=\"mpl\")\n",
    "print(qml.draw(circuit)(estados_concatenados))\n",
    "print(estado_0)"
   ]
  },
  {
   "cell_type": "code",
   "execution_count": null,
   "metadata": {},
   "outputs": [],
   "source": []
  },
  {
   "cell_type": "code",
   "execution_count": null,
   "metadata": {},
   "outputs": [],
   "source": []
  }
 ],
 "metadata": {
  "kernelspec": {
   "display_name": "Python 3",
   "language": "python",
   "name": "python3"
  },
  "language_info": {
   "codemirror_mode": {
    "name": "ipython",
    "version": 3
   },
   "file_extension": ".py",
   "mimetype": "text/x-python",
   "name": "python",
   "nbconvert_exporter": "python",
   "pygments_lexer": "ipython3",
   "version": "3.11.6"
  }
 },
 "nbformat": 4,
 "nbformat_minor": 2
}
