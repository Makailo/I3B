{
 "cells": [
  {
   "cell_type": "code",
   "execution_count": 1,
   "metadata": {},
   "outputs": [],
   "source": [
    "import pandas as pd\n",
    "import numpy as np\n",
    "from qiskit import QuantumCircuit\n",
    "from qiskit import Aer, execute\n",
    "from qiskit.quantum_info import Statevector"
   ]
  },
  {
   "cell_type": "markdown",
   "metadata": {},
   "source": [
    "### Lectura del fichero CSV\n",
    "* Se importa el archivo csv.\n",
    "* se eliminan las columnas que no son datos y convierte el dataset a binario\n",
    "* Se separa el dataset en dos, filtrando por train y test"
   ]
  },
  {
   "cell_type": "code",
   "execution_count": 2,
   "metadata": {},
   "outputs": [],
   "source": [
    "data = pd.read_csv('Datos_Montabilidad_Anom_447-6-1.csv',delimiter=';')\n",
    "\n",
    "# Filtrado y construcción del dataframe binario\n",
    "df_binario = data.iloc[:, 2:-2].apply(lambda x: x > 0).astype(int)"
   ]
  },
  {
   "cell_type": "code",
   "execution_count": 3,
   "metadata": {},
   "outputs": [],
   "source": [
    "#Queremos evaluar colummnas, no filas\n",
    "#Tomamos de ejemplo el sensro1 y el sensor2\n",
    "\n",
    "\n",
    "\n",
    "import math\n",
    "x = df_binario[data['Set'] == 'Train'].head(1).to_numpy()[0]\n",
    "y = df_binario[data['Set'] == 'Test'].head(1).to_numpy()[0]\n",
    "\n",
    "x_extended = np.pad(x, (0, 1024 - len(x)), 'constant')\n",
    "y_extended = np.pad(y, (0, 1024 - len(y)), 'constant')\n",
    "\n",
    "numero_componentes = len(x_extended)\n",
    "nqubits = math.ceil(np.log2(numero_componentes))    # compute how many qubits needed to encode either x or y\n",
    "\n",
    "circ = QuantumCircuit(nqubits+1)   # create circuit lo qubits de entrada + el qubit de ansatz\n",
    "vec = np.concatenate((x_extended,y_extended))   # concatenate x and y as above, with renormalisation\n",
    "\n",
    "circ.initialize(vec, range(nqubits+1),normalize=True)\n",
    "circ.h(nqubits)                    # apply hadamard to bottom qubit\n",
    "\n",
    "state = Statevector(circ)"
   ]
  },
  {
   "cell_type": "code",
   "execution_count": 4,
   "metadata": {},
   "outputs": [
    {
     "name": "stdout",
     "output_type": "stream",
     "text": [
      "0.3109243697478974\n"
     ]
    }
   ],
   "source": [
    "backend = Aer.get_backend('statevector_simulator')\n",
    "job = execute(circ, backend=backend)\n",
    "\n",
    "result = job.result()\n",
    "o = np.real(result.get_statevector(circ))\n",
    "#print(result.get_statevector(circ))\n",
    "#print(o)\n",
    "\n",
    "m_sum = 0\n",
    "for l in range(numero_componentes):\n",
    "    m_sum += o[l]**2 #𝑃(0)\n",
    "\n",
    "producto_interno = 2*m_sum-1 #𝑅𝑒[⟨𝑥||𝑦⟩]=2𝑃(0)−1\n",
    "print(producto_interno)"
   ]
  }
 ],
 "metadata": {
  "kernelspec": {
   "display_name": "Python 3",
   "language": "python",
   "name": "python3"
  },
  "language_info": {
   "codemirror_mode": {
    "name": "ipython",
    "version": 3
   },
   "file_extension": ".py",
   "mimetype": "text/x-python",
   "name": "python",
   "nbconvert_exporter": "python",
   "pygments_lexer": "ipython3",
   "version": "3.11.6"
  }
 },
 "nbformat": 4,
 "nbformat_minor": 2
}
