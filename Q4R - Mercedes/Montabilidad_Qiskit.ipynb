{
 "cells": [
  {
   "cell_type": "code",
   "execution_count": null,
   "metadata": {},
   "outputs": [],
   "source": [
    "import pandas as pd\n",
    "import numpy as np\n",
    "import math\n",
    "from qiskit import QuantumCircuit\n",
    "from qiskit import Aer, execute\n",
    "import os"
   ]
  },
  {
   "cell_type": "code",
   "execution_count": null,
   "metadata": {},
   "outputs": [],
   "source": [
    "data = pd.read_csv('Montabilidad_to_Quantum.csv',delimiter=';', encoding='latin-1')\n",
    "\n",
    "columnas_a_quitar = ['file_type','metadata_path', 'metadata_date', 'metadata_size', 'query_key', 'text', 'Expediente', 'Tipo_vehículo', 'Código', 'N_Produccion', 'Fecha_Tecnica', 'metadata_file']\n",
    "data = data.drop(columnas_a_quitar, axis=1)"
   ]
  },
  {
   "cell_type": "code",
   "execution_count": null,
   "metadata": {},
   "outputs": [],
   "source": [
    "def preparacion_vectores_train_test(data):\n",
    "    vectores_train = data[data['Set'] == 'Train']\n",
    "    vectores_test = data[data['Set'] == 'Test']\n",
    "    #vectores_test = data[data['N_Pedido'] == '5-30033330']\n",
    "    #vectores_train = data[data['N_Pedido'] == '5-30033330']\n",
    "    #vectores_train.iloc[0:,4:-3] = 0\n",
    "    #vectores_train.iloc[0:,3:9] = 1\n",
    "    return (vectores_test, vectores_train)"
   ]
  },
  {
   "cell_type": "code",
   "execution_count": null,
   "metadata": {},
   "outputs": [],
   "source": [
    "def normalizar_vector(vector):\n",
    "    norma = np.linalg.norm(vector)\n",
    "    return vector/norma"
   ]
  },
  {
   "cell_type": "code",
   "execution_count": null,
   "metadata": {},
   "outputs": [],
   "source": [
    "def padding(vec, qubits):\n",
    "    num_componentes_relleno = 2**qubits - len(vec)\n",
    "    return np.pad(vec, (0, num_componentes_relleno), mode='constant', constant_values = 0)\n",
    "#vec = np.array([1, 2, 3])\n",
    "#padding(vec, 2)"
   ]
  },
  {
   "cell_type": "code",
   "execution_count": null,
   "metadata": {},
   "outputs": [],
   "source": [
    "def inner_prod(vec1, vec2):\n",
    "    #first check lengths are equal\n",
    "    if len(vec1) != len(vec2):\n",
    "        raise ValueError('Lengths of states are not equal')\n",
    "\n",
    "    numero_componentes = len(vec1)\n",
    "    nqubits = math.ceil(np.log2(numero_componentes))\n",
    "\n",
    "    vec1 = padding(vec1, nqubits)\n",
    "    vec2 = padding(vec2, nqubits)\n",
    "\n",
    "    circ = QuantumCircuit(nqubits+1,1)\n",
    "    vec = np.concatenate([vec1,vec2])/np.sqrt(2)\n",
    "\n",
    "    circ.initialize(vec, range(nqubits+1))\n",
    "    circ.h(nqubits)\n",
    "    circ.measure(nqubits,0)\n",
    "\n",
    "    backend = Aer.get_backend('qasm_simulator')\n",
    "    job = execute(circ, backend, shots=20000)\n",
    "\n",
    "    result = job.result()\n",
    "    outputstate = result.get_counts(circ)\n",
    "\n",
    "    if ('0' in outputstate.keys()):\n",
    "        m_sum = float(outputstate[\"0\"])/20000\n",
    "    else:\n",
    "        m_sum = 0\n",
    "\n",
    "    inner_product = 2*m_sum-1\n",
    "    return inner_product"
   ]
  },
  {
   "cell_type": "code",
   "execution_count": null,
   "metadata": {},
   "outputs": [],
   "source": [
    "def correlacion_vectores(vector_1, vector_2):\n",
    "    test_normalizado = normalizar_vector(vector_1.iloc[ :-3].to_numpy())\n",
    "    train_normalizado = normalizar_vector(vector_2.iloc[ :-3].to_numpy())\n",
    "    #print(test_normalizado, train_normalizado)\n",
    "    return inner_prod(test_normalizado, train_normalizado)"
   ]
  },
  {
   "cell_type": "code",
   "execution_count": null,
   "metadata": {},
   "outputs": [],
   "source": [
    "#apply(lambda x: x > 0).astype(int)\n",
    "def itera_por_matriz_cuantica(vectores_test, vectores_train):\n",
    "  for index_test, test in vectores_test.iterrows():\n",
    "    for index_train, train in vectores_train.iterrows():\n",
    "      correlacion_entre_variables = correlacion_vectores(test, train)\n",
    "      yield [f'test_{index_test}', f'train_{index_train}', correlacion_entre_variables, test['Categoria'], test['N_Pedido']]"
   ]
  },
  {
   "cell_type": "code",
   "execution_count": 47,
   "metadata": {},
   "outputs": [],
   "source": [
    "def vector_test_similar(exotico):\n",
    "    vectores_test = data[data['Set'] == 'Test']\n",
    "    for index_test, test in vectores_test.iterrows():\n",
    "        if not test.equals(exotico):\n",
    "            correlacion_entre_variables = correlacion_vectores(test, exotico)\n",
    "            if correlacion_entre_variables != 1:\n",
    "                yield [correlacion_entre_variables,test['N_Pedido']]"
   ]
  },
  {
   "cell_type": "code",
   "execution_count": 54,
   "metadata": {},
   "outputs": [],
   "source": [
    "def diferencias_componentes(exotico, similar):\n",
    "    binarizados_serie1 = exotico.apply(lambda x: 1 if x != 0 else 0)\n",
    "    binarizados_serie2 = similar.apply(lambda x: 1 if x != 0 else 0)\n",
    "\n",
    "    # Identificar las columnas que tienen valores diferentes\n",
    "    diferencias = binarizados_serie1.index.symmetric_difference(binarizados_serie2.index)\n",
    "    \n",
    "    return list(diferencias)"
   ]
  },
  {
   "cell_type": "code",
   "execution_count": 56,
   "metadata": {},
   "outputs": [
    {
     "ename": "KeyboardInterrupt",
     "evalue": "",
     "output_type": "error",
     "traceback": [
      "\u001b[1;31m---------------------------------------------------------------------------\u001b[0m",
      "\u001b[1;31mKeyboardInterrupt\u001b[0m                         Traceback (most recent call last)",
      "\u001b[1;32md:\\Project\\I3B\\Q4R - Mercedes\\Montabilidad_Qiskit.ipynb Cell 11\u001b[0m line \u001b[0;36m1\n\u001b[0;32m     <a href='vscode-notebook-cell:/d%3A/Project/I3B/Q4R%20-%20Mercedes/Montabilidad_Qiskit.ipynb#X12sZmlsZQ%3D%3D?line=15'>16</a>\u001b[0m resultados_similares \u001b[39m=\u001b[39m pd\u001b[39m.\u001b[39mDataFrame(vector_test_similar(exotico), columns\u001b[39m=\u001b[39m[\u001b[39m'\u001b[39m\u001b[39mCorrelacion\u001b[39m\u001b[39m'\u001b[39m, \u001b[39m'\u001b[39m\u001b[39mN_Pedido\u001b[39m\u001b[39m'\u001b[39m])\u001b[39m.\u001b[39msort_values(by\u001b[39m=\u001b[39m\u001b[39m'\u001b[39m\u001b[39mCorrelacion\u001b[39m\u001b[39m'\u001b[39m)\n\u001b[0;32m     <a href='vscode-notebook-cell:/d%3A/Project/I3B/Q4R%20-%20Mercedes/Montabilidad_Qiskit.ipynb#X12sZmlsZQ%3D%3D?line=16'>17</a>\u001b[0m test_similar \u001b[39m=\u001b[39m pd\u001b[39m.\u001b[39mSeries(data[data[\u001b[39m'\u001b[39m\u001b[39mN_Pedido\u001b[39m\u001b[39m'\u001b[39m] \u001b[39m==\u001b[39m resultados_similares\u001b[39m.\u001b[39miloc[\u001b[39m-\u001b[39m\u001b[39m1\u001b[39m][\u001b[39m'\u001b[39m\u001b[39mN_Pedido\u001b[39m\u001b[39m'\u001b[39m]]\u001b[39m.\u001b[39miloc[\u001b[39m0\u001b[39m])\n\u001b[1;32m---> <a href='vscode-notebook-cell:/d%3A/Project/I3B/Q4R%20-%20Mercedes/Montabilidad_Qiskit.ipynb#X12sZmlsZQ%3D%3D?line=18'>19</a>\u001b[0m diferencias \u001b[39m=\u001b[39m diferencias_componentes(exotico, test_similar)\n\u001b[0;32m     <a href='vscode-notebook-cell:/d%3A/Project/I3B/Q4R%20-%20Mercedes/Montabilidad_Qiskit.ipynb#X12sZmlsZQ%3D%3D?line=20'>21</a>\u001b[0m \u001b[39m#exoticos = pd.concat([exoticos, pd.DataFrame(data[data['N_Pedido'] == exotico.iloc[0]['N_Pedido']])], ignore_index=True)\u001b[39;00m\n\u001b[0;32m     <a href='vscode-notebook-cell:/d%3A/Project/I3B/Q4R%20-%20Mercedes/Montabilidad_Qiskit.ipynb#X12sZmlsZQ%3D%3D?line=21'>22</a>\u001b[0m \n\u001b[0;32m     <a href='vscode-notebook-cell:/d%3A/Project/I3B/Q4R%20-%20Mercedes/Montabilidad_Qiskit.ipynb#X12sZmlsZQ%3D%3D?line=22'>23</a>\u001b[0m \u001b[39m#nombre_resultado = f'resultados_{nom_categoria}'\u001b[39;00m\n\u001b[1;32m   (...)\u001b[0m\n\u001b[0;32m     <a href='vscode-notebook-cell:/d%3A/Project/I3B/Q4R%20-%20Mercedes/Montabilidad_Qiskit.ipynb#X12sZmlsZQ%3D%3D?line=26'>27</a>\u001b[0m \n\u001b[0;32m     <a href='vscode-notebook-cell:/d%3A/Project/I3B/Q4R%20-%20Mercedes/Montabilidad_Qiskit.ipynb#X12sZmlsZQ%3D%3D?line=27'>28</a>\u001b[0m \u001b[39m#display(resultados_correlacion_ordenado)\u001b[39;00m\n",
      "\u001b[1;32md:\\Project\\I3B\\Q4R - Mercedes\\Montabilidad_Qiskit.ipynb Cell 11\u001b[0m line \u001b[0;36m6\n\u001b[0;32m      <a href='vscode-notebook-cell:/d%3A/Project/I3B/Q4R%20-%20Mercedes/Montabilidad_Qiskit.ipynb#X12sZmlsZQ%3D%3D?line=2'>3</a>\u001b[0m binarizados_serie2 \u001b[39m=\u001b[39m similar\u001b[39m.\u001b[39mapply(\u001b[39mlambda\u001b[39;00m x: \u001b[39m1\u001b[39m \u001b[39mif\u001b[39;00m x \u001b[39m!=\u001b[39m \u001b[39m0\u001b[39m \u001b[39melse\u001b[39;00m \u001b[39m0\u001b[39m)\n\u001b[0;32m      <a href='vscode-notebook-cell:/d%3A/Project/I3B/Q4R%20-%20Mercedes/Montabilidad_Qiskit.ipynb#X12sZmlsZQ%3D%3D?line=4'>5</a>\u001b[0m \u001b[39m# Identificar las columnas que tienen valores diferentes\u001b[39;00m\n\u001b[1;32m----> <a href='vscode-notebook-cell:/d%3A/Project/I3B/Q4R%20-%20Mercedes/Montabilidad_Qiskit.ipynb#X12sZmlsZQ%3D%3D?line=5'>6</a>\u001b[0m diferencias \u001b[39m=\u001b[39m binarizados_serie1\u001b[39m.\u001b[39mindex\u001b[39m.\u001b[39msymmetric_difference(binarizados_serie2\u001b[39m.\u001b[39mindex)\n\u001b[0;32m      <a href='vscode-notebook-cell:/d%3A/Project/I3B/Q4R%20-%20Mercedes/Montabilidad_Qiskit.ipynb#X12sZmlsZQ%3D%3D?line=7'>8</a>\u001b[0m \u001b[39mreturn\u001b[39;00m \u001b[39mlist\u001b[39m(diferencias)\n",
      "\u001b[1;32md:\\Project\\I3B\\Q4R - Mercedes\\Montabilidad_Qiskit.ipynb Cell 11\u001b[0m line \u001b[0;36m6\n\u001b[0;32m      <a href='vscode-notebook-cell:/d%3A/Project/I3B/Q4R%20-%20Mercedes/Montabilidad_Qiskit.ipynb#X12sZmlsZQ%3D%3D?line=2'>3</a>\u001b[0m binarizados_serie2 \u001b[39m=\u001b[39m similar\u001b[39m.\u001b[39mapply(\u001b[39mlambda\u001b[39;00m x: \u001b[39m1\u001b[39m \u001b[39mif\u001b[39;00m x \u001b[39m!=\u001b[39m \u001b[39m0\u001b[39m \u001b[39melse\u001b[39;00m \u001b[39m0\u001b[39m)\n\u001b[0;32m      <a href='vscode-notebook-cell:/d%3A/Project/I3B/Q4R%20-%20Mercedes/Montabilidad_Qiskit.ipynb#X12sZmlsZQ%3D%3D?line=4'>5</a>\u001b[0m \u001b[39m# Identificar las columnas que tienen valores diferentes\u001b[39;00m\n\u001b[1;32m----> <a href='vscode-notebook-cell:/d%3A/Project/I3B/Q4R%20-%20Mercedes/Montabilidad_Qiskit.ipynb#X12sZmlsZQ%3D%3D?line=5'>6</a>\u001b[0m diferencias \u001b[39m=\u001b[39m binarizados_serie1\u001b[39m.\u001b[39mindex\u001b[39m.\u001b[39msymmetric_difference(binarizados_serie2\u001b[39m.\u001b[39mindex)\n\u001b[0;32m      <a href='vscode-notebook-cell:/d%3A/Project/I3B/Q4R%20-%20Mercedes/Montabilidad_Qiskit.ipynb#X12sZmlsZQ%3D%3D?line=7'>8</a>\u001b[0m \u001b[39mreturn\u001b[39;00m \u001b[39mlist\u001b[39m(diferencias)\n",
      "File \u001b[1;32m~\\AppData\\Local\\Packages\\PythonSoftwareFoundation.Python.3.11_qbz5n2kfra8p0\\LocalCache\\local-packages\\Python311\\site-packages\\debugpy\\_vendored\\pydevd\\_pydevd_bundle\\pydevd_frame.py:988\u001b[0m, in \u001b[0;36mPyDBFrame.trace_dispatch\u001b[1;34m(self, frame, event, arg)\u001b[0m\n\u001b[0;32m    986\u001b[0m \u001b[39m# if thread has a suspend flag, we suspend with a busy wait\u001b[39;00m\n\u001b[0;32m    987\u001b[0m \u001b[39mif\u001b[39;00m info\u001b[39m.\u001b[39mpydev_state \u001b[39m==\u001b[39m STATE_SUSPEND:\n\u001b[1;32m--> 988\u001b[0m     \u001b[39mself\u001b[39;49m\u001b[39m.\u001b[39;49mdo_wait_suspend(thread, frame, event, arg)\n\u001b[0;32m    989\u001b[0m     \u001b[39mreturn\u001b[39;00m \u001b[39mself\u001b[39m\u001b[39m.\u001b[39mtrace_dispatch\n\u001b[0;32m    990\u001b[0m \u001b[39melse\u001b[39;00m:\n",
      "File \u001b[1;32m~\\AppData\\Local\\Packages\\PythonSoftwareFoundation.Python.3.11_qbz5n2kfra8p0\\LocalCache\\local-packages\\Python311\\site-packages\\debugpy\\_vendored\\pydevd\\_pydevd_bundle\\pydevd_frame.py:165\u001b[0m, in \u001b[0;36mPyDBFrame.do_wait_suspend\u001b[1;34m(self, *args, **kwargs)\u001b[0m\n\u001b[0;32m    164\u001b[0m \u001b[39mdef\u001b[39;00m \u001b[39mdo_wait_suspend\u001b[39m(\u001b[39mself\u001b[39m, \u001b[39m*\u001b[39margs, \u001b[39m*\u001b[39m\u001b[39m*\u001b[39mkwargs):\n\u001b[1;32m--> 165\u001b[0m     \u001b[39mself\u001b[39;49m\u001b[39m.\u001b[39;49m_args[\u001b[39m0\u001b[39;49m]\u001b[39m.\u001b[39;49mdo_wait_suspend(\u001b[39m*\u001b[39;49margs, \u001b[39m*\u001b[39;49m\u001b[39m*\u001b[39;49mkwargs)\n",
      "File \u001b[1;32m~\\AppData\\Local\\Packages\\PythonSoftwareFoundation.Python.3.11_qbz5n2kfra8p0\\LocalCache\\local-packages\\Python311\\site-packages\\debugpy\\_vendored\\pydevd\\pydevd.py:2070\u001b[0m, in \u001b[0;36mPyDB.do_wait_suspend\u001b[1;34m(self, thread, frame, event, arg, exception_type)\u001b[0m\n\u001b[0;32m   2067\u001b[0m             from_this_thread\u001b[39m.\u001b[39mappend(frame_custom_thread_id)\n\u001b[0;32m   2069\u001b[0m     \u001b[39mwith\u001b[39;00m \u001b[39mself\u001b[39m\u001b[39m.\u001b[39m_threads_suspended_single_notification\u001b[39m.\u001b[39mnotify_thread_suspended(thread_id, thread, stop_reason):\n\u001b[1;32m-> 2070\u001b[0m         keep_suspended \u001b[39m=\u001b[39m \u001b[39mself\u001b[39;49m\u001b[39m.\u001b[39;49m_do_wait_suspend(thread, frame, event, arg, suspend_type, from_this_thread, frames_tracker)\n\u001b[0;32m   2072\u001b[0m frames_list \u001b[39m=\u001b[39m \u001b[39mNone\u001b[39;00m\n\u001b[0;32m   2074\u001b[0m \u001b[39mif\u001b[39;00m keep_suspended:\n\u001b[0;32m   2075\u001b[0m     \u001b[39m# This means that we should pause again after a set next statement.\u001b[39;00m\n",
      "File \u001b[1;32m~\\AppData\\Local\\Packages\\PythonSoftwareFoundation.Python.3.11_qbz5n2kfra8p0\\LocalCache\\local-packages\\Python311\\site-packages\\debugpy\\_vendored\\pydevd\\pydevd.py:2106\u001b[0m, in \u001b[0;36mPyDB._do_wait_suspend\u001b[1;34m(self, thread, frame, event, arg, suspend_type, from_this_thread, frames_tracker)\u001b[0m\n\u001b[0;32m   2103\u001b[0m         \u001b[39mself\u001b[39m\u001b[39m.\u001b[39m_call_input_hook()\n\u001b[0;32m   2105\u001b[0m     \u001b[39mself\u001b[39m\u001b[39m.\u001b[39mprocess_internal_commands()\n\u001b[1;32m-> 2106\u001b[0m     time\u001b[39m.\u001b[39msleep(\u001b[39m0.01\u001b[39m)\n\u001b[0;32m   2108\u001b[0m \u001b[39mself\u001b[39m\u001b[39m.\u001b[39mcancel_async_evaluation(get_current_thread_id(thread), \u001b[39mstr\u001b[39m(\u001b[39mid\u001b[39m(frame)))\n\u001b[0;32m   2110\u001b[0m \u001b[39m# process any stepping instructions\u001b[39;00m\n",
      "\u001b[1;31mKeyboardInterrupt\u001b[0m: "
     ]
    }
   ],
   "source": [
    "resultados_por_categoria = {}\n",
    "columnas = ['Nombre_Test', 'Nombre_Train', 'Correlacion', 'Categoria', 'N_Pedido']\n",
    "exoticos = pd.DataFrame()\n",
    "\n",
    "categorias = data.groupby('Categoria')\n",
    "\n",
    "for nom_categoria, categoria in categorias:\n",
    "    if nom_categoria == 'BASE':\n",
    "         vectores_test, vectores_train = preparacion_vectores_train_test(categoria) \n",
    "         \n",
    "         resultados_correlacion = pd.DataFrame(itera_por_matriz_cuantica(vectores_test, vectores_train), columns=columnas)\n",
    "         resultados_correlacion_ordenado = resultados_correlacion.sort_values(by='Correlacion')\n",
    "\n",
    "         exotico = pd.Series(vectores_test[vectores_test['N_Pedido'] == resultados_correlacion_ordenado.iloc[0]['N_Pedido']].iloc[0])\n",
    "         \n",
    "         resultados_similares = pd.DataFrame(vector_test_similar(exotico), columns=['Correlacion', 'N_Pedido']).sort_values(by='Correlacion')\n",
    "         test_similar = pd.Series(data[data['N_Pedido'] == resultados_similares.iloc[-1]['N_Pedido']].iloc[0])\n",
    "\n",
    "         diferencias = diferencias_componentes(exotico, test_similar)\n",
    "\n",
    "         #exoticos = pd.concat([exoticos, pd.DataFrame(data[data['N_Pedido'] == exotico.iloc[0]['N_Pedido']])], ignore_index=True)\n",
    "    \n",
    "         #nombre_resultado = f'resultados_{nom_categoria}'\n",
    "         #resultados_por_categoria[nombre_resultado] = resultados_correlacion\n",
    "\n",
    "         #resultados_csv(ruta_guardado,resultados_correlacion_ordenado,nombre_resultado)\n",
    "         \n",
    "         #display(resultados_correlacion_ordenado)"
   ]
  }
 ],
 "metadata": {
  "kernelspec": {
   "display_name": "Python 3",
   "language": "python",
   "name": "python3"
  },
  "language_info": {
   "codemirror_mode": {
    "name": "ipython",
    "version": 3
   },
   "file_extension": ".py",
   "mimetype": "text/x-python",
   "name": "python",
   "nbconvert_exporter": "python",
   "pygments_lexer": "ipython3",
   "version": "3.11.6"
  }
 },
 "nbformat": 4,
 "nbformat_minor": 2
}
