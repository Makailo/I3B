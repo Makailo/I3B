{
 "cells": [
  {
   "cell_type": "code",
   "execution_count": 35,
   "metadata": {},
   "outputs": [],
   "source": [
    "import pandas as pd\n",
    "import numpy as np\n",
    "import math\n",
    "from qiskit import QuantumCircuit\n",
    "from qiskit import Aer, execute"
   ]
  },
  {
   "cell_type": "markdown",
   "metadata": {},
   "source": [
    "### Lectura del fichero CSV\n",
    "* Se importa el archivo csv.\n",
    "* se eliminan las columnas que no son datos y convierte el dataset a binario\n",
    "* Se separa el dataset en dos, filtrando por train y test"
   ]
  },
  {
   "cell_type": "code",
   "execution_count": 36,
   "metadata": {},
   "outputs": [],
   "source": [
    "data = pd.read_csv('Montabilidad_to_Quantum.csv',delimiter=';', encoding='latin-1')\n",
    "\n",
    "columnas_a_quitar = ['file_type','metadata_path', 'metadata_date', 'metadata_size', 'query_key', 'text', 'Expediente', 'Tipo_vehículo', 'Código', 'N_Produccion', 'Fecha_Tecnica', 'metadata_file']\n",
    "data = data.drop(columnas_a_quitar, axis=1)\n",
    "\n",
    "# Filtrado y construcción del dataframe binario\n",
    "vectores_train = data[data['Set'] == 'Train']\n",
    "vectores_test = data[data['Set'] == 'Test']\n",
    "vectores_train_bin = data.iloc[:, :-3].apply(lambda x: x > 0).astype(int).to_numpy()[:20, :]\n",
    "vectores_test_bin = data.iloc[:, :-3].apply(lambda x: x > 0).astype(int).to_numpy()[:20, :]\n",
    "\n"
   ]
  },
  {
   "cell_type": "code",
   "execution_count": 37,
   "metadata": {},
   "outputs": [],
   "source": [
    "vectores_train_extended = np.pad(vectores_train_bin, ((0, 0), (0, 1024 - vectores_train_bin.shape[1])), mode='constant')\n",
    "vectores_test_extended = np.pad(vectores_test_bin, ((0, 0), (0, 1024 - vectores_test_bin.shape[1])), mode='constant')\n",
    "\n",
    "numero_componentes = len(vectores_train_extended[0])\n",
    "nqubits = math.ceil(np.log2(numero_componentes))    # compute how many qubits needed to encode either x or y"
   ]
  },
  {
   "cell_type": "code",
   "execution_count": 38,
   "metadata": {},
   "outputs": [],
   "source": [
    "def inner_prod(vec1, vec2):\n",
    "    #first check lengths are equal\n",
    "    if len(vec1) != len(vec2):\n",
    "        raise ValueError('Lengths of states are not equal')\n",
    "\n",
    "    circ = QuantumCircuit(nqubits+1,1)\n",
    "    vec = np.concatenate([vec1,vec2])/np.sqrt(2)\n",
    "\n",
    "    circ.initialize(vec, range(nqubits+1))\n",
    "    circ.h(nqubits)\n",
    "    circ.measure(nqubits,0)\n",
    "\n",
    "    backend = Aer.get_backend('qasm_simulator')\n",
    "    job = execute(circ, backend, shots=20000)\n",
    "\n",
    "    result = job.result()\n",
    "    outputstate = result.get_counts(circ)\n",
    "\n",
    "    if ('0' in outputstate.keys()):\n",
    "        m_sum = float(outputstate[\"0\"])/20000\n",
    "    else:\n",
    "        m_sum = 0\n",
    "\n",
    "    return 2*m_sum-1"
   ]
  },
  {
   "cell_type": "code",
   "execution_count": 39,
   "metadata": {},
   "outputs": [],
   "source": [
    "exoticos = []\n",
    "def itera_por_matriz_cuantica():\n",
    "  for i, test in enumerate(vectores_test_extended):\n",
    "    for j, train in enumerate(vectores_train_extended):\n",
    "        train_norm = np.linalg.norm(train)\n",
    "        test_norm = np.linalg.norm(test)\n",
    "        train_normalizado = train/train_norm\n",
    "        test_normalizado = test/test_norm\n",
    "        correlacion_entre_variables = inner_prod(test_normalizado, train_normalizado)\n",
    "        if correlacion_entre_variables == 0 and test not in exoticos :\n",
    "           exoticos.append(test)\n",
    "        yield [f'test_{i}', f'train_{j}', correlacion_entre_variables]"
   ]
  },
  {
   "cell_type": "code",
   "execution_count": 40,
   "metadata": {},
   "outputs": [
    {
     "data": {
      "text/html": [
       "<div>\n",
       "<style scoped>\n",
       "    .dataframe tbody tr th:only-of-type {\n",
       "        vertical-align: middle;\n",
       "    }\n",
       "\n",
       "    .dataframe tbody tr th {\n",
       "        vertical-align: top;\n",
       "    }\n",
       "\n",
       "    .dataframe thead th {\n",
       "        text-align: right;\n",
       "    }\n",
       "</style>\n",
       "<table border=\"1\" class=\"dataframe\">\n",
       "  <thead>\n",
       "    <tr style=\"text-align: right;\">\n",
       "      <th></th>\n",
       "      <th>0</th>\n",
       "      <th>1</th>\n",
       "      <th>2</th>\n",
       "    </tr>\n",
       "  </thead>\n",
       "  <tbody>\n",
       "    <tr>\n",
       "      <th>0</th>\n",
       "      <td>test_0</td>\n",
       "      <td>train_0</td>\n",
       "      <td>1.0000</td>\n",
       "    </tr>\n",
       "    <tr>\n",
       "      <th>1</th>\n",
       "      <td>test_0</td>\n",
       "      <td>train_1</td>\n",
       "      <td>0.5516</td>\n",
       "    </tr>\n",
       "    <tr>\n",
       "      <th>2</th>\n",
       "      <td>test_0</td>\n",
       "      <td>train_2</td>\n",
       "      <td>0.7191</td>\n",
       "    </tr>\n",
       "    <tr>\n",
       "      <th>3</th>\n",
       "      <td>test_0</td>\n",
       "      <td>train_3</td>\n",
       "      <td>0.5659</td>\n",
       "    </tr>\n",
       "    <tr>\n",
       "      <th>4</th>\n",
       "      <td>test_0</td>\n",
       "      <td>train_4</td>\n",
       "      <td>0.4354</td>\n",
       "    </tr>\n",
       "    <tr>\n",
       "      <th>...</th>\n",
       "      <td>...</td>\n",
       "      <td>...</td>\n",
       "      <td>...</td>\n",
       "    </tr>\n",
       "    <tr>\n",
       "      <th>395</th>\n",
       "      <td>test_19</td>\n",
       "      <td>train_15</td>\n",
       "      <td>0.8549</td>\n",
       "    </tr>\n",
       "    <tr>\n",
       "      <th>396</th>\n",
       "      <td>test_19</td>\n",
       "      <td>train_16</td>\n",
       "      <td>0.8844</td>\n",
       "    </tr>\n",
       "    <tr>\n",
       "      <th>397</th>\n",
       "      <td>test_19</td>\n",
       "      <td>train_17</td>\n",
       "      <td>0.8641</td>\n",
       "    </tr>\n",
       "    <tr>\n",
       "      <th>398</th>\n",
       "      <td>test_19</td>\n",
       "      <td>train_18</td>\n",
       "      <td>0.7405</td>\n",
       "    </tr>\n",
       "    <tr>\n",
       "      <th>399</th>\n",
       "      <td>test_19</td>\n",
       "      <td>train_19</td>\n",
       "      <td>1.0000</td>\n",
       "    </tr>\n",
       "  </tbody>\n",
       "</table>\n",
       "<p>400 rows × 3 columns</p>\n",
       "</div>"
      ],
      "text/plain": [
       "           0         1       2\n",
       "0     test_0   train_0  1.0000\n",
       "1     test_0   train_1  0.5516\n",
       "2     test_0   train_2  0.7191\n",
       "3     test_0   train_3  0.5659\n",
       "4     test_0   train_4  0.4354\n",
       "..       ...       ...     ...\n",
       "395  test_19  train_15  0.8549\n",
       "396  test_19  train_16  0.8844\n",
       "397  test_19  train_17  0.8641\n",
       "398  test_19  train_18  0.7405\n",
       "399  test_19  train_19  1.0000\n",
       "\n",
       "[400 rows x 3 columns]"
      ]
     },
     "metadata": {},
     "output_type": "display_data"
    }
   ],
   "source": [
    "distancia_vectores = pd.DataFrame(itera_por_matriz_cuantica())\n",
    "display(distancia_vectores)"
   ]
  },
  {
   "cell_type": "code",
   "execution_count": null,
   "metadata": {},
   "outputs": [],
   "source": []
  }
 ],
 "metadata": {
  "kernelspec": {
   "display_name": "Python 3",
   "language": "python",
   "name": "python3"
  },
  "language_info": {
   "codemirror_mode": {
    "name": "ipython",
    "version": 3
   },
   "file_extension": ".py",
   "mimetype": "text/x-python",
   "name": "python",
   "nbconvert_exporter": "python",
   "pygments_lexer": "ipython3",
   "version": "3.11.6"
  }
 },
 "nbformat": 4,
 "nbformat_minor": 2
}
