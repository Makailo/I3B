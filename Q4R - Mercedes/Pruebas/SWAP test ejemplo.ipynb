{
 "cells": [
  {
   "cell_type": "code",
   "execution_count": 1,
   "metadata": {},
   "outputs": [],
   "source": [
    "import pandas as pd\n",
    "import pennylane as qml\n",
    "import numpy as np\n",
    "from pennylane.transforms import  merge_amplitude_embedding"
   ]
  },
  {
   "cell_type": "code",
   "execution_count": 88,
   "metadata": {},
   "outputs": [],
   "source": [
    "entrada_train= [1,0,1,1,1]\n",
    "entrada_test=  [0,1,1,1,1]\n",
    "qubit_number_AmplitudeEmbedding = int(np.ceil(np.log2(len(entrada_train)))) if np.log2(len(entrada_train)) > 0 else 1\n"
   ]
  },
  {
   "cell_type": "code",
   "execution_count": 25,
   "metadata": {},
   "outputs": [],
   "source": [
    "def normalize_vector(vector):\n",
    "    # Calcula la magnitud del vector\n",
    "    magnitude = np.linalg.norm(vector)\n",
    "    # Divide cada elemento del vector por la magnitud\n",
    "    normalized_vector = vector / magnitude\n",
    "    return normalized_vector\n",
    "\n",
    "#normalized = normalize_vector(entrada)\n",
    "#print(\"Vector normalizado:\", normalized)"
   ]
  },
  {
   "cell_type": "code",
   "execution_count": 89,
   "metadata": {},
   "outputs": [
    {
     "name": "stdout",
     "output_type": "stream",
     "text": [
      "0: ──H──────────────────────╭●─────H───────────────────┤ ╭<Z@Z@Z>\n",
      "1: ─────────────────────────│──────H─╭●─────H──────────┤ ├<Z@Z@Z>\n",
      "2: ─────────────────────────│────────│──────H─╭●─────H─┤ ╰<Z@Z@Z>\n",
      "3: ─╭AmplitudeEmbedding(M0)─├SWAP────│────────│────────┤         \n",
      "4: ─├AmplitudeEmbedding(M0)─│────────├SWAP────│────────┤         \n",
      "5: ─├AmplitudeEmbedding(M0)─│────────│────────├SWAP────┤         \n",
      "6: ─├AmplitudeEmbedding(M0)─╰SWAP────│────────│────────┤         \n",
      "7: ─├AmplitudeEmbedding(M0)──────────╰SWAP────│────────┤         \n",
      "8: ─╰AmplitudeEmbedding(M0)───────────────────╰SWAP────┤         \n",
      "M0 = \n",
      "[0.  +0.j 0.  +0.j 0.  +0.j 0.  +0.j 0.  +0.j 0.  +0.j 0.  +0.j 0.  +0.j\n",
      " 0.25+0.j 0.  +0.j 0.25+0.j 0.25+0.j 0.25+0.j 0.  +0.j 0.  +0.j 0.  +0.j\n",
      " 0.25+0.j 0.  +0.j 0.25+0.j 0.25+0.j 0.25+0.j 0.  +0.j 0.  +0.j 0.  +0.j\n",
      " 0.25+0.j 0.  +0.j 0.25+0.j 0.25+0.j 0.25+0.j 0.  +0.j 0.  +0.j 0.  +0.j\n",
      " 0.25+0.j 0.  +0.j 0.25+0.j 0.25+0.j 0.25+0.j 0.  +0.j 0.  +0.j 0.  +0.j\n",
      " 0.  +0.j 0.  +0.j 0.  +0.j 0.  +0.j 0.  +0.j 0.  +0.j 0.  +0.j 0.  +0.j\n",
      " 0.  +0.j 0.  +0.j 0.  +0.j 0.  +0.j 0.  +0.j 0.  +0.j 0.  +0.j 0.  +0.j\n",
      " 0.  +0.j 0.  +0.j 0.  +0.j 0.  +0.j 0.  +0.j 0.  +0.j 0.  +0.j 0.  +0.j]\n",
      "\n",
      "\n",
      "0.5624999999999994\n"
     ]
    }
   ],
   "source": [
    "dev = qml.device(\"default.qubit\", 3*qubit_number_AmplitudeEmbedding)\n",
    "#dev_qiskit = qml.device(\"qiskit.aer\", qubits_totales)\n",
    "\n",
    "@qml.qnode(device=dev)\n",
    "@qml.transforms.merge_amplitude_embedding\n",
    "def circuit(vector_test,vector_train):\n",
    "    qml.AmplitudeEmbedding(features=vector_test, wires=range(qubit_number_AmplitudeEmbedding,2*qubit_number_AmplitudeEmbedding), normalize=True, pad_with=0.)\n",
    "    qml.AmplitudeEmbedding(features=vector_train, wires=range(2*qubit_number_AmplitudeEmbedding,3*qubit_number_AmplitudeEmbedding), normalize=True, pad_with=0.)\n",
    "    #return qml.probs(wires=range(dev.num_wires))\n",
    "    estado = qml.state\n",
    "    ancillea = []\n",
    "    for i in range(qubit_number_AmplitudeEmbedding):\n",
    "        qml.Hadamard(i)\n",
    "        anc = i\n",
    "        ancillea.append(anc)\n",
    "        first_state = i+qubit_number_AmplitudeEmbedding\n",
    "        second_state = i+ 2*qubit_number_AmplitudeEmbedding\n",
    "        qml.CSWAP(wires=[anc, first_state, second_state])\n",
    "        qml.Hadamard(i)\n",
    "    return qml.expval(qml.operation.Tensor(*[qml.PauliZ(i) for i in ancillea]))\n",
    "    #qml.probs(wires = range(len(ancillea)))\n",
    "\n",
    "estado_0 = circuit(entrada_test,entrada_train)\n",
    "print(qml.draw(circuit)(entrada_test,entrada_train))\n",
    "print(\"\\n\")\n",
    "print(estado_0)"
   ]
  },
  {
   "cell_type": "code",
   "execution_count": 108,
   "metadata": {},
   "outputs": [
    {
     "name": "stdout",
     "output_type": "stream",
     "text": [
      "0: ──H──────────────────────╭●─────H───────┤ ╭<Z@Z>\n",
      "1: ──H──────────────────────│─────╭●─────H─┤ ╰<Z@Z>\n",
      "2: ─╭AmplitudeEmbedding(M0)─├SWAP─│────────┤       \n",
      "3: ─├AmplitudeEmbedding(M0)─│─────├SWAP────┤       \n",
      "4: ─├AmplitudeEmbedding(M0)─╰SWAP─│────────┤       \n",
      "5: ─╰AmplitudeEmbedding(M0)───────╰SWAP────┤       \n",
      "M0 = \n",
      "[0. +0.j 0. +0.j 0. +0.j 0. +0.j 0.5+0.j 0.5+0.j 0.5+0.j 0.5+0.j 0. +0.j\n",
      " 0. +0.j 0. +0.j 0. +0.j 0. +0.j 0. +0.j 0. +0.j 0. +0.j]\n",
      "0.24999999999999978\n"
     ]
    }
   ],
   "source": [
    "dev2 = qml.device('default.qubit', wires=6)\n",
    "@qml.qnode(device=dev2)\n",
    "@qml.transforms.merge_amplitude_embedding\n",
    "def circuit():\n",
    "    qml.Hadamard(0)\n",
    "    qml.Hadamard(1)\n",
    "    qml.AmplitudeEmbedding([0,1,0,0], wires = [2,3], normalize=True)\n",
    "    qml.AmplitudeEmbedding([1,1,1,1], wires = [4,5], normalize=True)\n",
    "    qml.CSWAP(wires=[0,2,4])\n",
    "    qml.CSWAP(wires=[1,3,5])\n",
    "    qml.Hadamard(0)\n",
    "    qml.Hadamard(1)\n",
    "    return qml.expval(qml.PauliZ(0)@ qml.PauliZ(1))\n",
    "print(qml.draw(circuit)())\n",
    "#print(dev2.state)\n",
    "print(circuit())"
   ]
  },
  {
   "cell_type": "code",
   "execution_count": 109,
   "metadata": {},
   "outputs": [
    {
     "name": "stdout",
     "output_type": "stream",
     "text": [
      "[0 0 0 0 1 1 1 1 0 0 0 0 0 0 0 0]\n"
     ]
    }
   ],
   "source": [
    "tensor_product = np.kron([0,1,0,0], [1,1,1,1])\n",
    "print(tensor_product)"
   ]
  }
 ],
 "metadata": {
  "kernelspec": {
   "display_name": "Python 3",
   "language": "python",
   "name": "python3"
  },
  "language_info": {
   "codemirror_mode": {
    "name": "ipython",
    "version": 3
   },
   "file_extension": ".py",
   "mimetype": "text/x-python",
   "name": "python",
   "nbconvert_exporter": "python",
   "pygments_lexer": "ipython3",
   "version": "3.11.6"
  }
 },
 "nbformat": 4,
 "nbformat_minor": 2
}
